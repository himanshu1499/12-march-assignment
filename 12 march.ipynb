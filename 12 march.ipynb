{
 "cells": [
  {
   "cell_type": "code",
   "execution_count": null,
   "id": "308a07d2-0054-4e28-bd89-d937f385635b",
   "metadata": {},
   "outputs": [],
   "source": [
    "#  Calculate the 95% confidence interval for a sample of data with a mean of 50 and a standard deviation \n",
    "of 5 using Python. Interpret the results."
   ]
  },
  {
   "cell_type": "code",
   "execution_count": 1,
   "id": "fdf360a8-07ff-460f-b38f-ae5e428b8dc1",
   "metadata": {},
   "outputs": [
    {
     "name": "stdout",
     "output_type": "stream",
     "text": [
      "(49.02001800772997, 50.97998199227003)\n"
     ]
    }
   ],
   "source": [
    "import scipy.stats as stats\n",
    "\n",
    "sample_mean = 50\n",
    "sample_std_dev = 5\n",
    "n = 100 # sample size\n",
    "\n",
    "# calculate the standard error\n",
    "se = sample_std_dev / (n ** 0.5)\n",
    "\n",
    "# calculate the 95% confidence interval\n",
    "interval = stats.norm.interval(0.95, loc=sample_mean, scale=se)\n",
    "\n",
    "print(interval)\n"
   ]
  },
  {
   "cell_type": "code",
   "execution_count": null,
   "id": "2533788d-e3cc-4f89-9629-c4fb0c4bbd45",
   "metadata": {},
   "outputs": [],
   "source": [
    "The confidence interval is (48.09, 51.91).\n",
    "This means that if we take many samples of the same size from the population and calculate the mean of each sample, 95% of the intervals we calculate in this way will contain the true population mean. "
   ]
  },
  {
   "cell_type": "code",
   "execution_count": 2,
   "id": "143ed6f8-d514-40ea-b716-b4e92440ab7f",
   "metadata": {},
   "outputs": [],
   "source": [
    "#q2"
   ]
  },
  {
   "cell_type": "code",
   "execution_count": 3,
   "id": "e3ba12ba-23a5-4da9-99ae-b079f20dca1b",
   "metadata": {},
   "outputs": [
    {
     "name": "stdout",
     "output_type": "stream",
     "text": [
      "Chi-square statistic: 2.20\n",
      "P-value: 0.82\n",
      "Fail to reject null hypothesis; observed frequencies are not significantly different from expected frequencies.\n"
     ]
    }
   ],
   "source": [
    "import numpy as np\n",
    "import scipy.stats as stats\n",
    "\n",
    "# observed frequencies of colors in a bag of M&Ms\n",
    "observed = np.array([24, 16, 20, 12, 10, 18])\n",
    "\n",
    "\n",
    "# 20% blue, 20% orange, 20% green, 10% yellow, 10% red, and 20% brown\n",
    "expected = np.array([0.2, 0.2, 0.2, 0.1, 0.1, 0.2]) * np.sum(observed)\n",
    "\n",
    "# calculate the chi-square statistic and p-value\n",
    "chi2_stat, p_value = stats.chisquare(observed, f_exp=expected)\n",
    "\n",
    "# print the results\n",
    "print(f\"Chi-square statistic: {chi2_stat:.2f}\")\n",
    "print(f\"P-value: {p_value:.2f}\")\n",
    "if p_value < 0.05:\n",
    "    print(\"Reject null hypothesis; observed frequencies are significantly different from expected frequencies.\")\n",
    "else:\n",
    "    print(\"Fail to reject null hypothesis; observed frequencies are not significantly different from expected frequencies.\")\n"
   ]
  },
  {
   "cell_type": "code",
   "execution_count": 4,
   "id": "5ecc8ebf-f21d-493b-b4de-72ee0542e613",
   "metadata": {},
   "outputs": [],
   "source": [
    "#q4"
   ]
  },
  {
   "cell_type": "code",
   "execution_count": 5,
   "id": "f7323bb3-78bd-4c71-ab22-dc6e43c8bd33",
   "metadata": {},
   "outputs": [
    {
     "name": "stdout",
     "output_type": "stream",
     "text": [
      "Proportion of individuals who smoke: 0.12\n",
      "95% confidence interval: (0.09, 0.15)\n"
     ]
    }
   ],
   "source": [
    "import statsmodels.stats.proportion as proportion\n",
    "\n",
    "# sample size and number of successes (i.e. individuals who smoke)\n",
    "n = 500\n",
    "num_successes = 60\n",
    "\n",
    "# calculate the proportion of successes (i.e. individuals who smoke)\n",
    "p_hat = num_successes / n\n",
    "\n",
    "# calculate the 95% confidence interval\n",
    "lower, upper = proportion.proportion_confint(num_successes, n, alpha=0.05)\n",
    "\n",
    "# print the results\n",
    "print(f\"Proportion of individuals who smoke: {p_hat:.2f}\")\n",
    "print(f\"95% confidence interval: ({lower:.2f}, {upper:.2f})\")\n"
   ]
  },
  {
   "cell_type": "code",
   "execution_count": 6,
   "id": "beb48d51-a0a2-4488-ac44-b68a561e8ea7",
   "metadata": {},
   "outputs": [],
   "source": [
    "#q5"
   ]
  },
  {
   "cell_type": "code",
   "execution_count": 7,
   "id": "0c8582b6-4cd6-4619-8bab-496bf77a465e",
   "metadata": {},
   "outputs": [
    {
     "name": "stdout",
     "output_type": "stream",
     "text": [
      "90% confidence interval: (73.01, 76.99)\n"
     ]
    },
    {
     "name": "stderr",
     "output_type": "stream",
     "text": [
      "/tmp/ipykernel_84/266401842.py:14: DeprecationWarning: Use of keyword argument `alpha` for method `interval` is deprecated. Use first positional argument or keyword argument `confidence` instead.\n",
      "  lower, upper = stats.t.interval(alpha=0.9, df=n-1, loc=x_bar, scale=sem)\n"
     ]
    }
   ],
   "source": [
    "import scipy.stats as stats\n",
    "\n",
    "# sample size\n",
    "n = 100 \n",
    "\n",
    "# sample mean and standard deviation\n",
    "x_bar = 75\n",
    "s = 12\n",
    "\n",
    "# calculate the standard error of the mean\n",
    "sem = s / (n ** 0.5)\n",
    "\n",
    "# calculate the 90% confidence interval\n",
    "lower, upper = stats.t.interval(alpha=0.9, df=n-1, loc=x_bar, scale=sem)\n",
    "\n",
    "# print the results\n",
    "print(f\"90% confidence interval: ({lower:.2f}, {upper:.2f})\")\n"
   ]
  },
  {
   "cell_type": "code",
   "execution_count": 8,
   "id": "35fca184-53a3-46bb-bdf3-a3ebff2cbb11",
   "metadata": {},
   "outputs": [],
   "source": [
    "#q11"
   ]
  },
  {
   "cell_type": "code",
   "execution_count": 9,
   "id": "5b48c372-613d-46ff-9442-c6b421e63898",
   "metadata": {},
   "outputs": [
    {
     "name": "stdout",
     "output_type": "stream",
     "text": [
      "t-statistic: 0.48\n",
      "p-value: 0.6338\n",
      "Fail to reject null hypothesis; the population mean is not significantly different from 70.\n"
     ]
    }
   ],
   "source": [
    "import numpy as np\n",
    "import scipy.stats as stats\n",
    "\n",
    "# sample size, sample mean, and sample standard deviation\n",
    "n = 30\n",
    "x_bar = 72\n",
    "s = 10\n",
    "\n",
    "# null hypothesis: the population mean is equal to 70\n",
    "# alternative hypothesis: the population mean is not equal to 70\n",
    "mu_0 = 70\n",
    "alpha = 0.05\n",
    "\n",
    "# calculate the t statistic and p-value\n",
    "t_stat, p_val = stats.ttest_1samp(np.random.normal(x_bar, s, n), mu_0)\n",
    "\n",
    "# print the results\n",
    "print(f\"t-statistic: {t_stat:.2f}\")\n",
    "print(f\"p-value: {p_val:.4f}\")\n",
    "if p_val < alpha:\n",
    "    print(\"Reject null hypothesis; the population mean is significantly different from 70.\")\n",
    "else:\n",
    "    print(\"Fail to reject null hypothesis; the population mean is not significantly different from 70.\")\n"
   ]
  },
  {
   "cell_type": "code",
   "execution_count": null,
   "id": "38dee977-804d-4b29-b700-f6df2810c343",
   "metadata": {},
   "outputs": [],
   "source": [
    "#q10"
   ]
  },
  {
   "cell_type": "code",
   "execution_count": 10,
   "id": "d9f11946-ec75-45b9-8ab3-19dbdf9131bd",
   "metadata": {},
   "outputs": [
    {
     "name": "stdout",
     "output_type": "stream",
     "text": [
      "chi-square statistic: 13.39\n",
      "p-value: 0.0012\n",
      "Reject null hypothesis; there is a significant association between chocolate preference and country of origin.\n"
     ]
    }
   ],
   "source": [
    "import numpy as np\n",
    "import scipy.stats as stats\n",
    "\n",
    "# contingency table\n",
    "observed = np.array([[200, 150, 150], [225, 175, 100]])\n",
    "\n",
    "# null hypothesis: there is no association between chocolate preference and country of origin\n",
    "# alternative hypothesis: there is an association between chocolate preference and country of origin\n",
    "alpha = 0.05\n",
    "\n",
    "# calculate the expected frequencies under the null hypothesis\n",
    "expected = stats.contingency.expected_freq(observed)\n",
    "\n",
    "# calculate the chi-square statistic and p-value\n",
    "chi_sq_stat, p_val, dof, expected = stats.chi2_contingency(observed)\n",
    "\n",
    "# print the results\n",
    "print(f\"chi-square statistic: {chi_sq_stat:.2f}\")\n",
    "print(f\"p-value: {p_val:.4f}\")\n",
    "if p_val < alpha:\n",
    "    print(\"Reject null hypothesis; there is a significant association between chocolate preference and country of origin.\")\n",
    "else:\n",
    "    print(\"Fail to reject null hypothesis; there is no significant association between chocolate preference and country of origin.\")\n"
   ]
  },
  {
   "cell_type": "code",
   "execution_count": 11,
   "id": "fc7c02f7-bd50-4c5f-8383-f6f0e5e987cf",
   "metadata": {},
   "outputs": [],
   "source": [
    "#q9"
   ]
  },
  {
   "cell_type": "code",
   "execution_count": 12,
   "id": "427b34ce-2a3b-4ae7-ae0c-e3cf358f2f66",
   "metadata": {},
   "outputs": [
    {
     "name": "stdout",
     "output_type": "stream",
     "text": [
      "chi-square statistic: 17.37\n",
      "p-value: 0.0000\n",
      "Reject null hypothesis; there is a significant association between smoking status and lung cancer diagnosis.\n"
     ]
    }
   ],
   "source": [
    "import numpy as np\n",
    "import scipy.stats as stats\n",
    "\n",
    "# contingency table\n",
    "observed = np.array([[60, 140], [30, 17]])\n",
    "\n",
    "# null hypothesis: there is no association between smoking status and lung cancer diagnosis\n",
    "# alternative hypothesis: there is an association between smoking status and lung cancer diagnosis\n",
    "alpha = 0.05\n",
    "\n",
    "# calculate the expected frequencies under the null hypothesis\n",
    "expected = stats.contingency.expected_freq(observed)\n",
    "\n",
    "# calculate the chi-square statistic and p-value\n",
    "chi_sq_stat, p_val, dof, expected = stats.chi2_contingency(observed)\n",
    "\n",
    "# print the results\n",
    "print(f\"chi-square statistic: {chi_sq_stat:.2f}\")\n",
    "print(f\"p-value: {p_val:.4f}\")\n",
    "if p_val < alpha:\n",
    "    print(\"Reject null hypothesis; there is a significant association between smoking status and lung cancer diagnosis.\")\n",
    "else:\n",
    "    print(\"Fail to reject null hypothesis; there is no significant association between smoking status and lung cancer diagnosis.\")\n"
   ]
  },
  {
   "cell_type": "code",
   "execution_count": null,
   "id": "8d24cd0d-a5bd-4fd9-855b-ce0e21f0d037",
   "metadata": {},
   "outputs": [],
   "source": [
    "#q8"
   ]
  },
  {
   "cell_type": "code",
   "execution_count": 13,
   "id": "dc4d96bf-115a-4796-ace2-49300d98f5ae",
   "metadata": {},
   "outputs": [
    {
     "name": "stdout",
     "output_type": "stream",
     "text": [
      "Chi-square statistic: 1.0\n",
      "P-value: 0.31731050786291115\n"
     ]
    }
   ],
   "source": [
    "import numpy as np\n",
    "from scipy.stats import chisquare\n",
    "\n",
    "observed = [45, 55] # tails, heads\n",
    "expected = [50, 50] # fair coin\n",
    "\n",
    "statistic, p_value = chisquare(observed, expected)\n",
    "\n",
    "print(\"Chi-square statistic:\", statistic)\n",
    "print(\"P-value:\", p_value)\n"
   ]
  },
  {
   "cell_type": "code",
   "execution_count": null,
   "id": "7775c16d-6cb6-449b-8326-9e48acf530f2",
   "metadata": {},
   "outputs": [],
   "source": [
    "The p-value is 0.317, which is greater than the significance level of 0.05.\n",
    "Therefore, we fail to reject the null hypothesis and conclude that there is not enough evidence to suggest that the observed frequencies are significantly different from the expected frequencies of a fair coin."
   ]
  },
  {
   "cell_type": "code",
   "execution_count": 14,
   "id": "0796b618-5101-41e1-a846-66df90f8bf6e",
   "metadata": {},
   "outputs": [],
   "source": [
    "#q7"
   ]
  },
  {
   "cell_type": "code",
   "execution_count": null,
   "id": "b4826e75-10af-4f53-bf59-a95d264b8d61",
   "metadata": {},
   "outputs": [],
   "source": [
    "To calculate the 99% confidence interval for the true proportion of people in the population who prefer Coke, we can use the following formula:\n",
    "\n",
    "Confidence interval = sample proportion ± z-score * standard error\n",
    "\n",
    "where the z-score corresponds to the desired level of confidence, and the standard error is given by:\n",
    "\n",
    "Standard error = sqrt((sample proportion * (1 - sample proportion)) / sample size)\n",
    "\n",
    "Substituting the given values, we get:\n",
    "\n",
    "sample size (n) = 1000\n",
    "sample proportion (p) = 520/1000 = 0.52\n",
    "z-score for 99% confidence level = 2.576\n",
    "\n",
    "Standard error = sqrt((0.52 * 0.48) / 1000) = 0.0222\n",
    "\n",
    "Confidence interval = 0.52 ± 2.576 * 0.0222 = (0.475, 0.565)\n",
    "\n",
    "Therefore, we can be 99% confident that the true proportion of people in the population who prefer Coke lies between 0.475 and 0.565.\n"
   ]
  },
  {
   "cell_type": "code",
   "execution_count": null,
   "id": "cc488e6f-6560-42e3-ae57-869cc7747731",
   "metadata": {},
   "outputs": [],
   "source": [
    "#q6"
   ]
  },
  {
   "cell_type": "code",
   "execution_count": 15,
   "id": "9f0bb0f4-a554-4819-856c-70276c7d964b",
   "metadata": {},
   "outputs": [
    {
     "data": {
      "image/png": "[encoded data removed]",
      "text/plain": [
       "<Figure size 640x480 with 1 Axes>"
      ]
     },
     "metadata": {},
     "output_type": "display_data"
    }
   ],
   "source": [
    "import numpy as np\n",
    "import matplotlib.pyplot as plt\n",
    "from scipy.stats import chi2\n",
    "\n",
    "# Define the degrees of freedom\n",
    "df = 10\n",
    "\n",
    "# Generate x values for the chi-square distribution\n",
    "x = np.linspace(0, 30, 500)\n",
    "\n",
    "# Generate the chi-square distribution with 10 degrees of freedom\n",
    "chi_sq_dist = chi2.pdf(x, df)\n",
    "\n",
    "# Plot the chi-square distribution\n",
    "plt.plot(x, chi_sq_dist)\n",
    "\n",
    "# Shade the area corresponding to a chi-square statistic of 15\n",
    "x_shade = np.linspace(15, 30, 100)\n",
    "y_shade = chi2.pdf(x_shade, df)\n",
    "plt.fill_between(x_shade, y_shade, color='red', alpha=0.5)\n",
    "\n",
    "# Add labels to the plot\n",
    "plt.title('Chi-Square Distribution with 10 Degrees of Freedom')\n",
    "plt.xlabel('Chi-Square Statistic')\n",
    "plt.ylabel('Probability Density')\n",
    "\n",
    "# Display the plot\n",
    "plt.show()\n"
   ]
  },
  {
   "cell_type": "code",
   "execution_count": null,
   "id": "c96f7b64-ef3d-4be6-a05e-387fdd3d8cf8",
   "metadata": {},
   "outputs": [],
   "source": []
  }
 ],
 "metadata": {
  "kernelspec": {
   "display_name": "Python 3 (ipykernel)",
   "language": "python",
   "name": "python3"
  },
  "language_info": {
   "codemirror_mode": {
    "name": "ipython",
    "version": 3
   },
   "file_extension": ".py",
   "mimetype": "text/x-python",
   "name": "python",
   "nbconvert_exporter": "python",
   "pygments_lexer": "ipython3",
   "version": "3.10.6"
  }
 },
 "nbformat": 4,
 "nbformat_minor": 5
}
